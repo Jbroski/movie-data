{
 "cells": [
  {
   "cell_type": "code",
   "execution_count": 12,
   "metadata": {
    "collapsed": false
   },
   "outputs": [],
   "source": [
    "from imdb import IMDb\n",
    "ia = IMDb()"
   ]
  },
  {
   "cell_type": "code",
   "execution_count": 10,
   "metadata": {
    "collapsed": false
   },
   "outputs": [],
   "source": [
    "import pandas as pd\n",
    "train = pd.read_csv('train.csv',parse_dates=[0])\n",
    "test = pd.read_csv('test.csv',parse_dates=[0])\n",
    "imdbTrain = pd.DataFrame()\n",
    "imdbTrain['Title'] = train['Title']\n",
    "imdbTest = pd.DataFrame()\n",
    "imdbTest['Title'] = test['Title']"
   ]
  },
  {
   "cell_type": "code",
   "execution_count": 23,
   "metadata": {
    "collapsed": false
   },
   "outputs": [
    {
     "name": "stdout",
     "output_type": "stream",
     "text": [
      "2243537\n"
     ]
    },
    {
     "data": {
      "text/plain": [
       "[u'music department',\n",
       " 'sound crew',\n",
       " 'camera and electrical department',\n",
       " u'distributors',\n",
       " 'rating',\n",
       " 'runtimes',\n",
       " 'costume designer',\n",
       " u'thanks',\n",
       " 'make up',\n",
       " 'year',\n",
       " 'production design',\n",
       " 'miscellaneous crew',\n",
       " 'color info',\n",
       " u'special effects department',\n",
       " 'languages',\n",
       " 'votes',\n",
       " 'producer',\n",
       " 'title',\n",
       " 'mpaa',\n",
       " 'assistant director',\n",
       " 'writer',\n",
       " 'casting director',\n",
       " 'visual effects',\n",
       " 'production manager',\n",
       " 'editor',\n",
       " 'certificates',\n",
       " u'costume department',\n",
       " 'country codes',\n",
       " 'language codes',\n",
       " 'cover url',\n",
       " u'casting department',\n",
       " u'editorial department',\n",
       " 'sound mix',\n",
       " u'location management',\n",
       " 'genres',\n",
       " u'production companies',\n",
       " 'stunt performer',\n",
       " 'miscellaneous companies',\n",
       " 'cinematographer',\n",
       " 'akas',\n",
       " 'aspect ratio',\n",
       " 'director',\n",
       " 'kind',\n",
       " u'art department',\n",
       " 'countries',\n",
       " u'transportation department',\n",
       " 'plot outline',\n",
       " 'plot',\n",
       " 'cast',\n",
       " 'canonical title',\n",
       " 'long imdb title',\n",
       " 'long imdb canonical title',\n",
       " 'smart canonical title',\n",
       " 'smart long imdb canonical title',\n",
       " 'full-size cover url']"
      ]
     },
     "execution_count": 23,
     "metadata": {},
     "output_type": "execute_result"
    }
   ],
   "source": [
    "print ia.search_movie('A Haunted House')[0].getID()\n",
    "ia.get_movie('2243537').keys()"
   ]
  },
  {
   "cell_type": "code",
   "execution_count": 28,
   "metadata": {
    "collapsed": false
   },
   "outputs": [
    {
     "name": "stderr",
     "output_type": "stream",
     "text": [
      "2017-05-11 22:26:15,996 CRITICAL [imdbpy] C:\\Users\\ic3cr\\Anaconda2\\lib\\site-packages\\imdb\\_exceptions.py:35: IMDbDataAccessError exception raised; args: ({'url': 'http://akas.imdb.com/title/tt2339741/combined', 'error type': 'http_error_default', 'errcode': 500, 'headers': <httplib.HTTPMessage instance at 0x000000000B73B1C8>, 'proxy': '', 'errmsg': 'Internal Server Error'},); kwds: {}\n",
      "None\n",
      "2017-05-11 22:26:16,000 CRITICAL [imdbpy] C:\\Users\\ic3cr\\Anaconda2\\lib\\site-packages\\imdb\\__init__.py:777: caught an exception retrieving or parsing \"main\" info set for mopID \"2339741\" (accessSystem: http)\n",
      "Traceback (most recent call last):\n",
      "  File \"C:\\Users\\ic3cr\\Anaconda2\\lib\\site-packages\\imdb\\__init__.py\", line 772, in update\n",
      "    ret = method(mopID)\n",
      "  File \"C:\\Users\\ic3cr\\Anaconda2\\lib\\site-packages\\imdb\\parser\\http\\__init__.py\", line 506, in get_movie_main\n",
      "    cont = self._retrieve(self.urls['movie_main'] % movieID + 'combined')\n",
      "  File \"C:\\Users\\ic3cr\\Anaconda2\\lib\\site-packages\\imdb\\parser\\http\\__init__.py\", line 453, in _retrieve\n",
      "    ret = self.urlOpener.retrieve_unicode(url, size=size)\n",
      "  File \"C:\\Users\\ic3cr\\Anaconda2\\lib\\site-packages\\imdb\\parser\\http\\__init__.py\", line 202, in retrieve_unicode\n",
      "    uopener = self.open(url)\n",
      "  File \"C:\\Users\\ic3cr\\Anaconda2\\lib\\urllib.py\", line 213, in open\n",
      "    return getattr(self, name)(url)\n",
      "  File \"C:\\Users\\ic3cr\\Anaconda2\\lib\\urllib.py\", line 364, in open_http\n",
      "    return self.http_error(url, fp, errcode, errmsg, headers)\n",
      "  File \"C:\\Users\\ic3cr\\Anaconda2\\lib\\urllib.py\", line 381, in http_error\n",
      "    return self.http_error_default(url, fp, errcode, errmsg, headers)\n",
      "  File \"C:\\Users\\ic3cr\\Anaconda2\\lib\\site-packages\\imdb\\parser\\http\\__init__.py\", line 255, in http_error_default\n",
      "    'proxy': self.get_proxy()})\n",
      "IMDbDataAccessError: {'url': 'http://akas.imdb.com/title/tt2339741/combined', 'error type': 'http_error_default', 'errcode': 500, 'headers': <httplib.HTTPMessage instance at 0x000000000B73B1C8>, 'proxy': '', 'errmsg': 'Internal Server Error'}\n"
     ]
    }
   ],
   "source": [
    "ids = []\n",
    "mcaa = []\n",
    "director = []\n",
    "runtime = []\n",
    "for row in imdbTrain.iterrows():\n",
    "    movie = ia.search_movie(row[1]['Title'])[0]\n",
    "    ids +=  [movie.getID()]\n",
    "    movie2 = ia.get_movie(movie.getID())\n",
    "    if('mcaa' in movie2.keys()):\n",
    "        mcaa += movie2['mcaa']\n",
    "    else:\n",
    "        mcaa += ['']\n",
    "    if('director' in movie2.keys()):\n",
    "        director += movie2['director']\n",
    "    else:\n",
    "        director += ['']\n",
    "    if('runtime' in movie2.keys()):\n",
    "        runtime += movie2['runtime']\n",
    "    else:\n",
    "        runtime += ['']"
   ]
  },
  {
   "cell_type": "code",
   "execution_count": 27,
   "metadata": {
    "collapsed": false
   },
   "outputs": [
    {
     "data": {
      "text/plain": [
       "['0453562',\n",
       " '1272878',\n",
       " '1232829',\n",
       " '2294449',\n",
       " '2172934',\n",
       " '1622547',\n",
       " '1253863',\n",
       " '1606378',\n",
       " '2243537',\n",
       " '2557490',\n",
       " '1268799',\n",
       " '0365907',\n",
       " '1600195',\n",
       " '1826590',\n",
       " '1611224',\n",
       " '1591479',\n",
       " '1815862',\n",
       " '1712170',\n",
       " '1698641',\n",
       " '1615918',\n",
       " '2974918',\n",
       " '1605630',\n",
       " '1229340',\n",
       " '3322940',\n",
       " '0083564',\n",
       " '0478970',\n",
       " '1024648',\n",
       " '1334512',\n",
       " '1430607',\n",
       " '2395427',\n",
       " '1284575',\n",
       " '1217613',\n",
       " '1440129',\n",
       " '2245084',\n",
       " '1464174',\n",
       " '1355683',\n",
       " '1086772',\n",
       " '1217209',\n",
       " '1478338',\n",
       " '3682448',\n",
       " '0458339',\n",
       " '1843866',\n",
       " '1535109',\n",
       " '0074285',\n",
       " '1216475',\n",
       " '1823672',\n",
       " '1222815',\n",
       " '1706593',\n",
       " '1661199',\n",
       " '1985966',\n",
       " '1657507',\n",
       " '0082198',\n",
       " '3322364',\n",
       " '1598778',\n",
       " '1524137',\n",
       " '2360123',\n",
       " '1570728',\n",
       " '3076658',\n",
       " '2554274',\n",
       " '5657846',\n",
       " '1077368',\n",
       " '2103281',\n",
       " '1690953',\n",
       " '2023453',\n",
       " '1650043',\n",
       " '3070498',\n",
       " '1840309',\n",
       " '1853728',\n",
       " '3006462',\n",
       " '1564349',\n",
       " '2978462',\n",
       " '0829150',\n",
       " '0780504',\n",
       " '2096672',\n",
       " '1631867',\n",
       " '1535108',\n",
       " '1855199',\n",
       " '1731141',\n",
       " '2318092',\n",
       " '0387199',\n",
       " '0848537',\n",
       " '0765446',\n",
       " '0083907',\n",
       " '1528100',\n",
       " '1502712',\n",
       " '4106374',\n",
       " '1596343',\n",
       " '2322441',\n",
       " '1622979',\n",
       " '1907668',\n",
       " '2381941',\n",
       " '0087277',\n",
       " '1142977',\n",
       " '1621039',\n",
       " '1632708',\n",
       " '2820852',\n",
       " '2713180',\n",
       " '1583421',\n",
       " '1321870']"
      ]
     },
     "execution_count": 27,
     "metadata": {},
     "output_type": "execute_result"
    }
   ],
   "source": [
    "ids"
   ]
  },
  {
   "cell_type": "code",
   "execution_count": null,
   "metadata": {
    "collapsed": true
   },
   "outputs": [],
   "source": []
  }
 ],
 "metadata": {
  "kernelspec": {
   "display_name": "Python 2",
   "language": "python",
   "name": "python2"
  }
 },
 "nbformat": 4,
 "nbformat_minor": 2
}
