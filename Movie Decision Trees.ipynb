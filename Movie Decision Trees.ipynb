{
 "cells": [
  {
   "cell_type": "markdown",
   "metadata": {},
   "source": [
    "# Predicting Movie Performance\n",
    "\n",
    "I have compiled data for all the movies from 2011-2016 that had an opening US weekend box office total of $10m or more. We have some limited data points for each movie including genre, creative source, and production budget. Given the data for films from 2011-2015, can we predict the results of movies in 2016?\n",
    "\n",
    "We'll be using a variety of decision tree techniques, including random forests and boosted trees."
   ]
  },
  {
   "cell_type": "code",
   "execution_count": 1,
   "metadata": {
    "collapsed": true
   },
   "outputs": [],
   "source": [
    "import pandas as pd\n",
    "import numpy as np\n",
    "\n",
    "from sklearn.tree import DecisionTreeRegressor\n",
    "from sklearn.ensemble import RandomForestRegressor\n",
    "from sklearn.ensemble import GradientBoostingRegressor\n",
    "\n",
    "from sklearn import tree"
   ]
  },
  {
   "cell_type": "code",
   "execution_count": 3,
   "metadata": {
    "collapsed": true
   },
   "outputs": [],
   "source": [
    "from sklearn.preprocessing import LabelEncoder\n",
    "from sklearn.preprocessing import OneHotEncoder"
   ]
  },
  {
   "cell_type": "code",
   "execution_count": 2,
   "metadata": {
    "collapsed": false
   },
   "outputs": [],
   "source": [
    "import pydot\n",
    "import StringIO"
   ]
  },
  {
   "cell_type": "code",
   "execution_count": 64,
   "metadata": {
    "collapsed": true
   },
   "outputs": [],
   "source": [
    "import matplotlib.pyplot as plt\n",
    "%matplotlib inline"
   ]
  },
  {
   "cell_type": "markdown",
   "metadata": {},
   "source": [
    "## Data Preparation\n",
    "Here we'll be using pandas (http://pandas.pydata.org/) to import our data sets and ready our data for analysis. I've made sure that the data is already pretty normalized to make things easy on us.\n",
    "\n",
    "However, scikit-learn doesn't support categorical features in its decision trees. We'll need to convert all of our categorical columns to numerical columns using one-hot encoding."
   ]
  },
  {
   "cell_type": "code",
   "execution_count": 4,
   "metadata": {
    "collapsed": false
   },
   "outputs": [
    {
     "data": {
      "text/html": [
       "<div>\n",
       "<table border=\"1\" class=\"dataframe\">\n",
       "  <thead>\n",
       "    <tr style=\"text-align: right;\">\n",
       "      <th></th>\n",
       "      <th>Released</th>\n",
       "      <th>Title</th>\n",
       "      <th>Theatrical Distributor</th>\n",
       "      <th>Genre</th>\n",
       "      <th>Source</th>\n",
       "      <th>Production Method</th>\n",
       "      <th>Creative Type</th>\n",
       "      <th>Production Budget</th>\n",
       "      <th>Theatrical Engagements</th>\n",
       "    </tr>\n",
       "  </thead>\n",
       "  <tbody>\n",
       "    <tr>\n",
       "      <th>0</th>\n",
       "      <td>2013-04-12</td>\n",
       "      <td>42</td>\n",
       "      <td>Warner Bros.</td>\n",
       "      <td>Drama</td>\n",
       "      <td>Based on Real Life Events</td>\n",
       "      <td>Live Action</td>\n",
       "      <td>Dramatization</td>\n",
       "      <td>40000000</td>\n",
       "      <td>21418</td>\n",
       "    </tr>\n",
       "    <tr>\n",
       "      <th>1</th>\n",
       "      <td>2013-08-02</td>\n",
       "      <td>2 Guns</td>\n",
       "      <td>Universal</td>\n",
       "      <td>Action</td>\n",
       "      <td>Based on Comic/Graphic Novel</td>\n",
       "      <td>Live Action</td>\n",
       "      <td>Contemporary Fiction</td>\n",
       "      <td>61000000</td>\n",
       "      <td>15505</td>\n",
       "    </tr>\n",
       "    <tr>\n",
       "      <th>2</th>\n",
       "      <td>2012-03-16</td>\n",
       "      <td>21 Jump Street</td>\n",
       "      <td>Sony Pictures</td>\n",
       "      <td>Comedy</td>\n",
       "      <td>Based on TV</td>\n",
       "      <td>Live Action</td>\n",
       "      <td>Contemporary Fiction</td>\n",
       "      <td>42000000</td>\n",
       "      <td>22744</td>\n",
       "    </tr>\n",
       "    <tr>\n",
       "      <th>3</th>\n",
       "      <td>2014-06-13</td>\n",
       "      <td>22 Jump Street</td>\n",
       "      <td>Sony Pictures</td>\n",
       "      <td>Comedy</td>\n",
       "      <td>Based on TV</td>\n",
       "      <td>Live Action</td>\n",
       "      <td>Contemporary Fiction</td>\n",
       "      <td>50000000</td>\n",
       "      <td>22821</td>\n",
       "    </tr>\n",
       "    <tr>\n",
       "      <th>4</th>\n",
       "      <td>2014-02-21</td>\n",
       "      <td>3 Days to Kill</td>\n",
       "      <td>Relativity</td>\n",
       "      <td>Thriller/Suspense</td>\n",
       "      <td>Original Screenplay</td>\n",
       "      <td>Live Action</td>\n",
       "      <td>Contemporary Fiction</td>\n",
       "      <td>28000000</td>\n",
       "      <td>11265</td>\n",
       "    </tr>\n",
       "  </tbody>\n",
       "</table>\n",
       "</div>"
      ],
      "text/plain": [
       "    Released           Title Theatrical Distributor              Genre  \\\n",
       "0 2013-04-12              42           Warner Bros.              Drama   \n",
       "1 2013-08-02          2 Guns              Universal             Action   \n",
       "2 2012-03-16  21 Jump Street          Sony Pictures             Comedy   \n",
       "3 2014-06-13  22 Jump Street          Sony Pictures             Comedy   \n",
       "4 2014-02-21  3 Days to Kill             Relativity  Thriller/Suspense   \n",
       "\n",
       "                         Source Production Method         Creative Type  \\\n",
       "0     Based on Real Life Events       Live Action         Dramatization   \n",
       "1  Based on Comic/Graphic Novel       Live Action  Contemporary Fiction   \n",
       "2                   Based on TV       Live Action  Contemporary Fiction   \n",
       "3                   Based on TV       Live Action  Contemporary Fiction   \n",
       "4           Original Screenplay       Live Action  Contemporary Fiction   \n",
       "\n",
       "   Production Budget  Theatrical Engagements  \n",
       "0           40000000                   21418  \n",
       "1           61000000                   15505  \n",
       "2           42000000                   22744  \n",
       "3           50000000                   22821  \n",
       "4           28000000                   11265  "
      ]
     },
     "execution_count": 4,
     "metadata": {},
     "output_type": "execute_result"
    }
   ],
   "source": [
    "train = pd.read_csv('train.csv',parse_dates=[0])\n",
    "trainY = train['Infl. Adj. Dom. Box Office']\n",
    "del train['Infl. Adj. Dom. Box Office']\n",
    "\n",
    "test = pd.read_csv('test.csv',parse_dates=[0])\n",
    "testY = test['Infl. Adj. Dom. Box Office']\n",
    "del test['Infl. Adj. Dom. Box Office']\n",
    "\n",
    "train.head()\n",
    "#trainY.head()"
   ]
  },
  {
   "cell_type": "code",
   "execution_count": 6,
   "metadata": {
    "collapsed": false
   },
   "outputs": [],
   "source": [
    "def onehot(train=train,test=test,column='Theatrical Distributor'):\n",
    "    le = LabelEncoder()\n",
    "    s = train[column]\n",
    "    s = s.append(test[column])\n",
    "    le.fit(s)\n",
    "    s1 = le.transform(train[column])\n",
    "    s2 = le.transform(test[column])\n",
    "    a = np.append(s1,s2).reshape(-1,1)\n",
    "    oh = OneHotEncoder(sparse=False)\n",
    "    oh.fit(a)\n",
    "    train_out = oh.transform(s1.reshape(-1,1))\n",
    "    test_out = oh.transform(s2.reshape(-1,1))\n",
    "    train_df = pd.DataFrame(train_out).rename(columns=lambda x: le.inverse_transform(x))\n",
    "    test_df = pd.DataFrame(test_out).rename(columns=lambda x: le.inverse_transform(x))\n",
    "    return (train_df, test_df)"
   ]
  },
  {
   "cell_type": "code",
   "execution_count": 7,
   "metadata": {
    "collapsed": false
   },
   "outputs": [
    {
     "data": {
      "text/html": [
       "<div>\n",
       "<table border=\"1\" class=\"dataframe\">\n",
       "  <thead>\n",
       "    <tr style=\"text-align: right;\">\n",
       "      <th></th>\n",
       "      <th>budget</th>\n",
       "      <th>theaters</th>\n",
       "      <th>20th Century Fox</th>\n",
       "      <th>CBS Films</th>\n",
       "      <th>FilmDistrict</th>\n",
       "      <th>Focus / Gramercy</th>\n",
       "      <th>Focus Features</th>\n",
       "      <th>Lionsgate</th>\n",
       "      <th>Open Road</th>\n",
       "      <th>Paramount Pictures</th>\n",
       "      <th>...</th>\n",
       "      <th>Stop-Motion Animation</th>\n",
       "      <th>Contemporary Fiction</th>\n",
       "      <th>Dramatization</th>\n",
       "      <th>Factual</th>\n",
       "      <th>Fantasy</th>\n",
       "      <th>Historical Fiction</th>\n",
       "      <th>Kids Fiction</th>\n",
       "      <th>Multiple Creative Types</th>\n",
       "      <th>Science Fiction</th>\n",
       "      <th>Super Hero</th>\n",
       "    </tr>\n",
       "  </thead>\n",
       "  <tbody>\n",
       "    <tr>\n",
       "      <th>0</th>\n",
       "      <td>40000000</td>\n",
       "      <td>21418</td>\n",
       "      <td>0</td>\n",
       "      <td>0</td>\n",
       "      <td>0</td>\n",
       "      <td>0</td>\n",
       "      <td>0</td>\n",
       "      <td>0</td>\n",
       "      <td>0</td>\n",
       "      <td>0</td>\n",
       "      <td>...</td>\n",
       "      <td>0</td>\n",
       "      <td>0</td>\n",
       "      <td>1</td>\n",
       "      <td>0</td>\n",
       "      <td>0</td>\n",
       "      <td>0</td>\n",
       "      <td>0</td>\n",
       "      <td>0</td>\n",
       "      <td>0</td>\n",
       "      <td>0</td>\n",
       "    </tr>\n",
       "    <tr>\n",
       "      <th>1</th>\n",
       "      <td>61000000</td>\n",
       "      <td>15505</td>\n",
       "      <td>0</td>\n",
       "      <td>0</td>\n",
       "      <td>0</td>\n",
       "      <td>0</td>\n",
       "      <td>0</td>\n",
       "      <td>0</td>\n",
       "      <td>0</td>\n",
       "      <td>0</td>\n",
       "      <td>...</td>\n",
       "      <td>0</td>\n",
       "      <td>1</td>\n",
       "      <td>0</td>\n",
       "      <td>0</td>\n",
       "      <td>0</td>\n",
       "      <td>0</td>\n",
       "      <td>0</td>\n",
       "      <td>0</td>\n",
       "      <td>0</td>\n",
       "      <td>0</td>\n",
       "    </tr>\n",
       "    <tr>\n",
       "      <th>2</th>\n",
       "      <td>42000000</td>\n",
       "      <td>22744</td>\n",
       "      <td>0</td>\n",
       "      <td>0</td>\n",
       "      <td>0</td>\n",
       "      <td>0</td>\n",
       "      <td>0</td>\n",
       "      <td>0</td>\n",
       "      <td>0</td>\n",
       "      <td>0</td>\n",
       "      <td>...</td>\n",
       "      <td>0</td>\n",
       "      <td>1</td>\n",
       "      <td>0</td>\n",
       "      <td>0</td>\n",
       "      <td>0</td>\n",
       "      <td>0</td>\n",
       "      <td>0</td>\n",
       "      <td>0</td>\n",
       "      <td>0</td>\n",
       "      <td>0</td>\n",
       "    </tr>\n",
       "    <tr>\n",
       "      <th>3</th>\n",
       "      <td>50000000</td>\n",
       "      <td>22821</td>\n",
       "      <td>0</td>\n",
       "      <td>0</td>\n",
       "      <td>0</td>\n",
       "      <td>0</td>\n",
       "      <td>0</td>\n",
       "      <td>0</td>\n",
       "      <td>0</td>\n",
       "      <td>0</td>\n",
       "      <td>...</td>\n",
       "      <td>0</td>\n",
       "      <td>1</td>\n",
       "      <td>0</td>\n",
       "      <td>0</td>\n",
       "      <td>0</td>\n",
       "      <td>0</td>\n",
       "      <td>0</td>\n",
       "      <td>0</td>\n",
       "      <td>0</td>\n",
       "      <td>0</td>\n",
       "    </tr>\n",
       "    <tr>\n",
       "      <th>4</th>\n",
       "      <td>28000000</td>\n",
       "      <td>11265</td>\n",
       "      <td>0</td>\n",
       "      <td>0</td>\n",
       "      <td>0</td>\n",
       "      <td>0</td>\n",
       "      <td>0</td>\n",
       "      <td>0</td>\n",
       "      <td>0</td>\n",
       "      <td>0</td>\n",
       "      <td>...</td>\n",
       "      <td>0</td>\n",
       "      <td>1</td>\n",
       "      <td>0</td>\n",
       "      <td>0</td>\n",
       "      <td>0</td>\n",
       "      <td>0</td>\n",
       "      <td>0</td>\n",
       "      <td>0</td>\n",
       "      <td>0</td>\n",
       "      <td>0</td>\n",
       "    </tr>\n",
       "  </tbody>\n",
       "</table>\n",
       "<p>5 rows × 60 columns</p>\n",
       "</div>"
      ],
      "text/plain": [
       "     budget  theaters  20th Century Fox  CBS Films  FilmDistrict  \\\n",
       "0  40000000     21418                 0          0             0   \n",
       "1  61000000     15505                 0          0             0   \n",
       "2  42000000     22744                 0          0             0   \n",
       "3  50000000     22821                 0          0             0   \n",
       "4  28000000     11265                 0          0             0   \n",
       "\n",
       "   Focus / Gramercy  Focus Features  Lionsgate  Open Road  Paramount Pictures  \\\n",
       "0                 0               0          0          0                   0   \n",
       "1                 0               0          0          0                   0   \n",
       "2                 0               0          0          0                   0   \n",
       "3                 0               0          0          0                   0   \n",
       "4                 0               0          0          0                   0   \n",
       "\n",
       "      ...      Stop-Motion Animation  Contemporary Fiction  Dramatization  \\\n",
       "0     ...                          0                     0              1   \n",
       "1     ...                          0                     1              0   \n",
       "2     ...                          0                     1              0   \n",
       "3     ...                          0                     1              0   \n",
       "4     ...                          0                     1              0   \n",
       "\n",
       "   Factual  Fantasy  Historical Fiction  Kids Fiction  \\\n",
       "0        0        0                   0             0   \n",
       "1        0        0                   0             0   \n",
       "2        0        0                   0             0   \n",
       "3        0        0                   0             0   \n",
       "4        0        0                   0             0   \n",
       "\n",
       "   Multiple Creative Types  Science Fiction  Super Hero  \n",
       "0                        0                0           0  \n",
       "1                        0                0           0  \n",
       "2                        0                0           0  \n",
       "3                        0                0           0  \n",
       "4                        0                0           0  \n",
       "\n",
       "[5 rows x 60 columns]"
      ]
     },
     "execution_count": 7,
     "metadata": {},
     "output_type": "execute_result"
    }
   ],
   "source": [
    "trainX = pd.DataFrame()\n",
    "trainX['budget'] = train['Production Budget']\n",
    "trainX['theaters'] = train['Theatrical Engagements']\n",
    "\n",
    "testX = pd.DataFrame()\n",
    "testX['budget'] = test['Production Budget']\n",
    "testX['theaters'] = test['Theatrical Engagements']\n",
    "categorical_features = ['Theatrical Distributor', 'Genre', 'Source', 'Production Method', 'Creative Type']\n",
    "for c in categorical_features:\n",
    "    (t1,t2) = onehot(column=c)\n",
    "    trainX = trainX.join(t1)\n",
    "    testX = testX.join(t2)\n",
    "trainX.head()"
   ]
  },
  {
   "cell_type": "markdown",
   "metadata": {},
   "source": [
    "## Building Our First Decision Tree"
   ]
  },
  {
   "cell_type": "code",
   "execution_count": 8,
   "metadata": {
    "collapsed": false
   },
   "outputs": [
    {
     "data": {
      "text/plain": [
       "DecisionTreeRegressor(criterion='mse', max_depth=None, max_features=None,\n",
       "           max_leaf_nodes=None, min_impurity_split=1e-07,\n",
       "           min_samples_leaf=1, min_samples_split=2,\n",
       "           min_weight_fraction_leaf=0.0, presort=False, random_state=None,\n",
       "           splitter='best')"
      ]
     },
     "execution_count": 8,
     "metadata": {},
     "output_type": "execute_result"
    }
   ],
   "source": [
    "regressor = DecisionTreeRegressor()\n",
    "regressor.fit(trainX,trainY)"
   ]
  },
  {
   "cell_type": "markdown",
   "metadata": {},
   "source": [
    "## Visualizing A Tree"
   ]
  },
  {
   "cell_type": "code",
   "execution_count": 9,
   "metadata": {
    "collapsed": false
   },
   "outputs": [
    {
     "data": {
      "text/plain": [
       "True"
      ]
     },
     "execution_count": 9,
     "metadata": {},
     "output_type": "execute_result"
    }
   ],
   "source": [
    "dotfile = StringIO.StringIO()\n",
    "tree.export_graphviz(regressor, out_file=dotfile)\n",
    "(graph,) = pydot.graph_from_dot_data(dotfile.getvalue())\n",
    "graph.write_png(\"tree.png\")"
   ]
  },
  {
   "cell_type": "markdown",
   "metadata": {},
   "source": [
    "![Tree](tree.png)"
   ]
  },
  {
   "cell_type": "code",
   "execution_count": 45,
   "metadata": {
    "collapsed": false
   },
   "outputs": [],
   "source": [
    "def print_decision_path(tree,example):\n",
    "    for decision in tree.decision_path(example).indices:\n",
    "        print 'Node #{}: avg = ${:.2f}M'.format(decision,\n",
    "                                              tree.tree_.value[decision][0][0]/1e6)\n",
    "        print '\\t decision = {} > {}? ... example_value = {}'.format(trainX.columns[tree.tree_.feature[decision]],\n",
    "                                                          tree.tree_.threshold[decision],\n",
    "                                                          example[trainX.columns[tree.tree_.feature[decision]]])"
   ]
  },
  {
   "cell_type": "code",
   "execution_count": 46,
   "metadata": {
    "collapsed": false
   },
   "outputs": [
    {
     "name": "stdout",
     "output_type": "stream",
     "text": [
      "Released                           2015-07-17 00:00:00\n",
      "Title                                          Ant-Man\n",
      "Theatrical Distributor                     Walt Disney\n",
      "Genre                                           Action\n",
      "Source                    Based on Comic/Graphic Novel\n",
      "Production Method                          Live Action\n",
      "Creative Type                               Super Hero\n",
      "Production Budget                            130000000\n",
      "Theatrical Engagements                           25916\n",
      "Name: 25, dtype: object\n",
      "----------------------\n",
      "Node #0: avg = $111.06M\n",
      "\t decision = theaters > 21001.0? ... example_value = 25916.0\n",
      "Node #626: avg = $228.99M\n",
      "\t decision = theaters > 35699.0? ... example_value = 25916.0\n",
      "Node #627: avg = $209.63M\n",
      "\t decision = budget > 188750000.0? ... example_value = 130000000.0\n",
      "Node #628: avg = $187.41M\n",
      "\t decision = theaters > 30147.5? ... example_value = 25916.0\n",
      "Node #629: avg = $172.04M\n",
      "\t decision = budget > 122500000.0? ... example_value = 130000000.0\n",
      "Node #713: avg = $199.81M\n",
      "\t decision = Kids Fiction > 0.5? ... example_value = 0.0\n",
      "Node #714: avg = $223.70M\n",
      "\t decision = theaters > 23186.0? ... example_value = 25916.0\n",
      "Node #730: avg = $251.23M\n",
      "\t decision = Based on Fiction Book/Short Story > 0.5? ... example_value = 0.0\n",
      "Node #731: avg = $216.68M\n",
      "\t decision = budget > 167500000.0? ... example_value = 130000000.0\n",
      "Node #732: avg = $200.48M\n",
      "\t decision = theaters > 24483.0? ... example_value = 25916.0\n",
      "Node #734: avg = $194.75M\n",
      "\t decision = Paramount Pictures > 0.5? ... example_value = 0.0\n",
      "Node #735: avg = $186.15M\n",
      "\t decision = Adventure > 0.5? ... example_value = 0.0\n",
      "Node #736: avg = $184.90M\n",
      "\t decision = Science Fiction > -2.0? ... example_value = 0.0\n"
     ]
    },
    {
     "name": "stderr",
     "output_type": "stream",
     "text": [
      "/usr/local/lib/python2.7/site-packages/sklearn/utils/validation.py:395: DeprecationWarning: Passing 1d arrays as data is deprecated in 0.17 and will raise ValueError in 0.19. Reshape your data either using X.reshape(-1, 1) if your data has a single feature or X.reshape(1, -1) if it contains a single sample.\n",
      "  DeprecationWarning)\n"
     ]
    }
   ],
   "source": [
    "print train.iloc[25]\n",
    "print '----------------------'\n",
    "print_decision_path(regressor,trainX.iloc[25])"
   ]
  },
  {
   "cell_type": "markdown",
   "metadata": {},
   "source": [
    "## Evaluating The Tree"
   ]
  },
  {
   "cell_type": "code",
   "execution_count": 30,
   "metadata": {
    "collapsed": false
   },
   "outputs": [
    {
     "data": {
      "text/plain": [
       "1.0"
      ]
     },
     "execution_count": 30,
     "metadata": {},
     "output_type": "execute_result"
    }
   ],
   "source": [
    "regressor.score(trainX,trainY)"
   ]
  },
  {
   "cell_type": "code",
   "execution_count": 31,
   "metadata": {
    "collapsed": false
   },
   "outputs": [
    {
     "data": {
      "text/plain": [
       "0.72551109823770032"
      ]
     },
     "execution_count": 31,
     "metadata": {},
     "output_type": "execute_result"
    }
   ],
   "source": [
    "regressor.score(testX,testY)"
   ]
  },
  {
   "cell_type": "code",
   "execution_count": 53,
   "metadata": {
    "collapsed": true
   },
   "outputs": [],
   "source": [
    "import matplotlib.pyplot as plt\n",
    "%matplotlib inline"
   ]
  },
  {
   "cell_type": "code",
   "execution_count": 54,
   "metadata": {
    "collapsed": false
   },
   "outputs": [
    {
     "data": {
      "text/plain": [
       "<matplotlib.collections.PathCollection at 0x10a4c4d10>"
      ]
     },
     "execution_count": 54,
     "metadata": {},
     "output_type": "execute_result"
    },
    {
     "data": {
      "image/png": "[encoded data removed]",
      "text/plain": [
       "<matplotlib.figure.Figure at 0x10a63fe90>"
      ]
     },
     "metadata": {},
     "output_type": "display_data"
    }
   ],
   "source": [
    "plt.scatter(regressor.predict(testX),testY)"
   ]
  },
  {
   "cell_type": "code",
   "execution_count": 63,
   "metadata": {
    "collapsed": false
   },
   "outputs": [
    {
     "name": "stdout",
     "output_type": "stream",
     "text": [
      "Root Mean Square Error = $55.40M\n",
      "0.750999539102\n"
     ]
    }
   ],
   "source": [
    "print 'Root Mean Square Error = ${:.2f}M'.format(np.sqrt(np.mean(np.power(testY-regressor.predict(testX),2)))/1e6)\n",
    "from sklearn import metrics\n",
    "print metrics.explained_variance_score(testY,regressor.predict(testX))"
   ]
  },
  {
   "cell_type": "markdown",
   "metadata": {},
   "source": [
    "## Can We Do Better?\n",
    "### Option 1: Tune Tree Parameters"
   ]
  },
  {
   "cell_type": "code",
   "execution_count": null,
   "metadata": {
    "collapsed": true
   },
   "outputs": [],
   "source": []
  },
  {
   "cell_type": "markdown",
   "metadata": {},
   "source": [
    "### Option 2: Use A Different Algorithm"
   ]
  },
  {
   "cell_type": "code",
   "execution_count": 58,
   "metadata": {
    "collapsed": false
   },
   "outputs": [
    {
     "name": "stdout",
     "output_type": "stream",
     "text": [
      "Test R^2 = 0.7802\n",
      "RMSE = $51.37M\n"
     ]
    }
   ],
   "source": [
    "random_forest = RandomForestRegressor()\n",
    "random_forest.fit(trainX,trainY)\n",
    "print 'Test R^2 = {:.4f}'.format(random_forest.score(testX,testY))\n",
    "print 'RMSE = ${:.2f}M'.format(np.sqrt(np.mean(np.power(testY-random_forest.predict(testX),2)))/1e6)"
   ]
  },
  {
   "cell_type": "code",
   "execution_count": 62,
   "metadata": {
    "collapsed": false
   },
   "outputs": [
    {
     "data": {
      "text/plain": [
       "array([  9.81670741e-02,   8.06360645e-01,   1.88146331e-03,\n",
       "         2.88403263e-05,   2.04899308e-06,   0.00000000e+00,\n",
       "         3.71387079e-05,   1.05409831e-02,   4.78440662e-05,\n",
       "         2.46720106e-03,   3.26629438e-04,   1.82796196e-06,\n",
       "         1.91288060e-03,   6.09325973e-04,   4.76176415e-03,\n",
       "         7.34344954e-03,   2.14633277e-03,   3.34995346e-05,\n",
       "         2.88156394e-05,   5.94622162e-03,   1.83940690e-03,\n",
       "         2.06681716e-05,   2.03244004e-03,   1.39716155e-05,\n",
       "         8.22432413e-07,   3.29505632e-03,   4.60783909e-04,\n",
       "         1.74370205e-04,   6.23722787e-04,   1.27808000e-03,\n",
       "         1.26288785e-04,   4.43186756e-03,   5.61384994e-04,\n",
       "         2.51546039e-03,   1.46619252e-04,   2.29870558e-05,\n",
       "         0.00000000e+00,   2.26725596e-04,   3.40196748e-04,\n",
       "         1.01923614e-05,   8.15710909e-05,   4.92488607e-04,\n",
       "         2.14684556e-06,   1.37085226e-04,   2.20969196e-03,\n",
       "         5.25760779e-04,   2.85168686e-03,   6.97088344e-03,\n",
       "         8.13914665e-03,   1.89430790e-03,   9.18932198e-06,\n",
       "         1.53740459e-03,   1.84432744e-03,   4.47618702e-05,\n",
       "         1.84084386e-03,   2.69989886e-03,   6.16834149e-03,\n",
       "         0.00000000e+00,   7.43667832e-04,   1.04176442e-03])"
      ]
     },
     "execution_count": 62,
     "metadata": {},
     "output_type": "execute_result"
    }
   ],
   "source": [
    "random_forest.feature_importances_"
   ]
  },
  {
   "cell_type": "code",
   "execution_count": 59,
   "metadata": {
    "collapsed": false
   },
   "outputs": [
    {
     "name": "stdout",
     "output_type": "stream",
     "text": [
      "Test R^2 = 0.8532\n",
      "RMSE = $41.98M\n"
     ]
    }
   ],
   "source": [
    "gradient_boost = GradientBoostingRegressor()\n",
    "gradient_boost.fit(trainX,trainY)\n",
    "print 'Test R^2 = {:.4f}'.format(gradient_boost.score(testX,testY))\n",
    "print 'RMSE = ${:.2f}M'.format(np.sqrt(np.mean(np.power(testY-gradient_boost.predict(testX),2)))/1e6)"
   ]
  },
  {
   "cell_type": "code",
   "execution_count": null,
   "metadata": {
    "collapsed": true
   },
   "outputs": [],
   "source": []
  }
 ],
 "metadata": {
  "kernelspec": {
   "display_name": "Python 2",
   "language": "python",
   "name": "python2"
  },
  "language_info": {
   "codemirror_mode": {
    "name": "ipython",
    "version": 2
   },
   "file_extension": ".py",
   "mimetype": "text/x-python",
   "name": "python",
   "nbconvert_exporter": "python",
   "pygments_lexer": "ipython2",
   "version": "2.7.13"
  }
 },
 "nbformat": 4,
 "nbformat_minor": 2
}
