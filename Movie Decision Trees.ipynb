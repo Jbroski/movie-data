{
 "cells": [
  {
   "cell_type": "markdown",
   "metadata": {},
   "source": [
    "# Predicting Movie Performance\n",
    "\n",
    "I have compiled data for all the movies from 2011-2016 that had an opening US weekend box office total of $10m or more. We have some limited data points for each movie including genre, creative source, and production budget. Given the data for films from 2011-2015, can we predict the results of movies in 2016?\n",
    "\n",
    "We'll be using a variety of decision tree techniques, including random forests and boosted trees."
   ]
  },
  {
   "cell_type": "code",
   "execution_count": 1,
   "metadata": {
    "collapsed": true
   },
   "outputs": [],
   "source": [
    "import pandas as pd\n",
    "import numpy as np\n",
    "\n",
    "from sklearn.tree import DecisionTreeRegressor\n",
    "from sklearn.ensemble import RandomForestRegressor\n",
    "from sklearn.ensemble import GradientBoostingRegressor\n",
    "\n",
    "from sklearn import tree"
   ]
  },
  {
   "cell_type": "code",
   "execution_count": 2,
   "metadata": {
    "collapsed": true
   },
   "outputs": [],
   "source": [
    "from sklearn.preprocessing import LabelEncoder\n",
    "from sklearn.preprocessing import OneHotEncoder"
   ]
  },
  {
   "cell_type": "code",
   "execution_count": 3,
   "metadata": {
    "collapsed": true
   },
   "outputs": [],
   "source": [
    "from sklearn.model_selection import GridSearchCV\n",
    "from sklearn import metrics"
   ]
  },
  {
   "cell_type": "code",
   "execution_count": 4,
   "metadata": {
    "collapsed": false
   },
   "outputs": [],
   "source": [
    "#pip install pydot\n",
    "import pydot\n",
    "import StringIO"
   ]
  },
  {
   "cell_type": "code",
   "execution_count": 5,
   "metadata": {
    "collapsed": true
   },
   "outputs": [],
   "source": [
    "import matplotlib.pyplot as plt\n",
    "%matplotlib inline"
   ]
  },
  {
   "cell_type": "markdown",
   "metadata": {},
   "source": [
    "## Data Preparation\n",
    "Here we'll be using pandas (http://pandas.pydata.org/) to import our data sets and ready our data for analysis. I've made sure that the data is already pretty normalized to make things easy on us.\n",
    "\n",
    "However, scikit-learn doesn't support categorical features in its decision trees. We'll need to convert all of our categorical columns to numerical columns using one-hot encoding."
   ]
  },
  {
   "cell_type": "code",
   "execution_count": 6,
   "metadata": {
    "collapsed": false
   },
   "outputs": [
    {
     "data": {
      "text/html": [
       "<div>\n",
       "<table border=\"1\" class=\"dataframe\">\n",
       "  <thead>\n",
       "    <tr style=\"text-align: right;\">\n",
       "      <th></th>\n",
       "      <th>Released</th>\n",
       "      <th>Title</th>\n",
       "      <th>Theatrical Distributor</th>\n",
       "      <th>Genre</th>\n",
       "      <th>Source</th>\n",
       "      <th>Production Method</th>\n",
       "      <th>Creative Type</th>\n",
       "      <th>Production Budget</th>\n",
       "      <th>Theatrical Engagements</th>\n",
       "    </tr>\n",
       "  </thead>\n",
       "  <tbody>\n",
       "    <tr>\n",
       "      <th>0</th>\n",
       "      <td>2013-04-12</td>\n",
       "      <td>42</td>\n",
       "      <td>Warner Bros.</td>\n",
       "      <td>Drama</td>\n",
       "      <td>Based on Real Life Events</td>\n",
       "      <td>Live Action</td>\n",
       "      <td>Dramatization</td>\n",
       "      <td>40000000</td>\n",
       "      <td>21418</td>\n",
       "    </tr>\n",
       "    <tr>\n",
       "      <th>1</th>\n",
       "      <td>2013-08-02</td>\n",
       "      <td>2 Guns</td>\n",
       "      <td>Universal</td>\n",
       "      <td>Action</td>\n",
       "      <td>Based on Comic/Graphic Novel</td>\n",
       "      <td>Live Action</td>\n",
       "      <td>Contemporary Fiction</td>\n",
       "      <td>61000000</td>\n",
       "      <td>15505</td>\n",
       "    </tr>\n",
       "    <tr>\n",
       "      <th>2</th>\n",
       "      <td>2012-03-16</td>\n",
       "      <td>21 Jump Street</td>\n",
       "      <td>Sony Pictures</td>\n",
       "      <td>Comedy</td>\n",
       "      <td>Based on TV</td>\n",
       "      <td>Live Action</td>\n",
       "      <td>Contemporary Fiction</td>\n",
       "      <td>42000000</td>\n",
       "      <td>22744</td>\n",
       "    </tr>\n",
       "    <tr>\n",
       "      <th>3</th>\n",
       "      <td>2014-06-13</td>\n",
       "      <td>22 Jump Street</td>\n",
       "      <td>Sony Pictures</td>\n",
       "      <td>Comedy</td>\n",
       "      <td>Based on TV</td>\n",
       "      <td>Live Action</td>\n",
       "      <td>Contemporary Fiction</td>\n",
       "      <td>50000000</td>\n",
       "      <td>22821</td>\n",
       "    </tr>\n",
       "    <tr>\n",
       "      <th>4</th>\n",
       "      <td>2014-02-21</td>\n",
       "      <td>3 Days to Kill</td>\n",
       "      <td>Relativity</td>\n",
       "      <td>Thriller/Suspense</td>\n",
       "      <td>Original Screenplay</td>\n",
       "      <td>Live Action</td>\n",
       "      <td>Contemporary Fiction</td>\n",
       "      <td>28000000</td>\n",
       "      <td>11265</td>\n",
       "    </tr>\n",
       "  </tbody>\n",
       "</table>\n",
       "</div>"
      ],
      "text/plain": [
       "    Released           Title Theatrical Distributor              Genre  \\\n",
       "0 2013-04-12              42           Warner Bros.              Drama   \n",
       "1 2013-08-02          2 Guns              Universal             Action   \n",
       "2 2012-03-16  21 Jump Street          Sony Pictures             Comedy   \n",
       "3 2014-06-13  22 Jump Street          Sony Pictures             Comedy   \n",
       "4 2014-02-21  3 Days to Kill             Relativity  Thriller/Suspense   \n",
       "\n",
       "                         Source Production Method         Creative Type  \\\n",
       "0     Based on Real Life Events       Live Action         Dramatization   \n",
       "1  Based on Comic/Graphic Novel       Live Action  Contemporary Fiction   \n",
       "2                   Based on TV       Live Action  Contemporary Fiction   \n",
       "3                   Based on TV       Live Action  Contemporary Fiction   \n",
       "4           Original Screenplay       Live Action  Contemporary Fiction   \n",
       "\n",
       "   Production Budget  Theatrical Engagements  \n",
       "0           40000000                   21418  \n",
       "1           61000000                   15505  \n",
       "2           42000000                   22744  \n",
       "3           50000000                   22821  \n",
       "4           28000000                   11265  "
      ]
     },
     "execution_count": 6,
     "metadata": {},
     "output_type": "execute_result"
    }
   ],
   "source": [
    "train = pd.read_csv('train.csv',parse_dates=[0])\n",
    "trainY = train['Infl. Adj. Dom. Box Office']\n",
    "del train['Infl. Adj. Dom. Box Office']\n",
    "\n",
    "test = pd.read_csv('test.csv',parse_dates=[0])\n",
    "testY = test['Infl. Adj. Dom. Box Office']\n",
    "del test['Infl. Adj. Dom. Box Office']\n",
    "\n",
    "train.head()\n",
    "#trainY.head()"
   ]
  },
  {
   "cell_type": "code",
   "execution_count": 7,
   "metadata": {
    "collapsed": false
   },
   "outputs": [],
   "source": [
    "def onehot(train=train,test=test,column='Theatrical Distributor'):\n",
    "    le = LabelEncoder()\n",
    "    s = train[column]\n",
    "    s = s.append(test[column])\n",
    "    le.fit(s)\n",
    "    s1 = le.transform(train[column])\n",
    "    s2 = le.transform(test[column])\n",
    "    a = np.append(s1,s2).reshape(-1,1)\n",
    "    oh = OneHotEncoder(sparse=False)\n",
    "    oh.fit(a)\n",
    "    train_out = oh.transform(s1.reshape(-1,1))\n",
    "    test_out = oh.transform(s2.reshape(-1,1))\n",
    "    train_df = pd.DataFrame(train_out).rename(columns=lambda x: le.inverse_transform(x))\n",
    "    test_df = pd.DataFrame(test_out).rename(columns=lambda x: le.inverse_transform(x))\n",
    "    return (train_df, test_df)"
   ]
  },
  {
   "cell_type": "code",
   "execution_count": 8,
   "metadata": {
    "collapsed": false
   },
   "outputs": [
    {
     "data": {
      "text/html": [
       "<div>\n",
       "<table border=\"1\" class=\"dataframe\">\n",
       "  <thead>\n",
       "    <tr style=\"text-align: right;\">\n",
       "      <th></th>\n",
       "      <th>budget</th>\n",
       "      <th>theaters</th>\n",
       "      <th>20th Century Fox</th>\n",
       "      <th>CBS Films</th>\n",
       "      <th>FilmDistrict</th>\n",
       "      <th>Focus / Gramercy</th>\n",
       "      <th>Focus Features</th>\n",
       "      <th>Lionsgate</th>\n",
       "      <th>Open Road</th>\n",
       "      <th>Paramount Pictures</th>\n",
       "      <th>...</th>\n",
       "      <th>Stop-Motion Animation</th>\n",
       "      <th>Contemporary Fiction</th>\n",
       "      <th>Dramatization</th>\n",
       "      <th>Factual</th>\n",
       "      <th>Fantasy</th>\n",
       "      <th>Historical Fiction</th>\n",
       "      <th>Kids Fiction</th>\n",
       "      <th>Multiple Creative Types</th>\n",
       "      <th>Science Fiction</th>\n",
       "      <th>Super Hero</th>\n",
       "    </tr>\n",
       "  </thead>\n",
       "  <tbody>\n",
       "    <tr>\n",
       "      <th>0</th>\n",
       "      <td>40000000</td>\n",
       "      <td>21418</td>\n",
       "      <td>0</td>\n",
       "      <td>0</td>\n",
       "      <td>0</td>\n",
       "      <td>0</td>\n",
       "      <td>0</td>\n",
       "      <td>0</td>\n",
       "      <td>0</td>\n",
       "      <td>0</td>\n",
       "      <td>...</td>\n",
       "      <td>0</td>\n",
       "      <td>0</td>\n",
       "      <td>1</td>\n",
       "      <td>0</td>\n",
       "      <td>0</td>\n",
       "      <td>0</td>\n",
       "      <td>0</td>\n",
       "      <td>0</td>\n",
       "      <td>0</td>\n",
       "      <td>0</td>\n",
       "    </tr>\n",
       "    <tr>\n",
       "      <th>1</th>\n",
       "      <td>61000000</td>\n",
       "      <td>15505</td>\n",
       "      <td>0</td>\n",
       "      <td>0</td>\n",
       "      <td>0</td>\n",
       "      <td>0</td>\n",
       "      <td>0</td>\n",
       "      <td>0</td>\n",
       "      <td>0</td>\n",
       "      <td>0</td>\n",
       "      <td>...</td>\n",
       "      <td>0</td>\n",
       "      <td>1</td>\n",
       "      <td>0</td>\n",
       "      <td>0</td>\n",
       "      <td>0</td>\n",
       "      <td>0</td>\n",
       "      <td>0</td>\n",
       "      <td>0</td>\n",
       "      <td>0</td>\n",
       "      <td>0</td>\n",
       "    </tr>\n",
       "    <tr>\n",
       "      <th>2</th>\n",
       "      <td>42000000</td>\n",
       "      <td>22744</td>\n",
       "      <td>0</td>\n",
       "      <td>0</td>\n",
       "      <td>0</td>\n",
       "      <td>0</td>\n",
       "      <td>0</td>\n",
       "      <td>0</td>\n",
       "      <td>0</td>\n",
       "      <td>0</td>\n",
       "      <td>...</td>\n",
       "      <td>0</td>\n",
       "      <td>1</td>\n",
       "      <td>0</td>\n",
       "      <td>0</td>\n",
       "      <td>0</td>\n",
       "      <td>0</td>\n",
       "      <td>0</td>\n",
       "      <td>0</td>\n",
       "      <td>0</td>\n",
       "      <td>0</td>\n",
       "    </tr>\n",
       "    <tr>\n",
       "      <th>3</th>\n",
       "      <td>50000000</td>\n",
       "      <td>22821</td>\n",
       "      <td>0</td>\n",
       "      <td>0</td>\n",
       "      <td>0</td>\n",
       "      <td>0</td>\n",
       "      <td>0</td>\n",
       "      <td>0</td>\n",
       "      <td>0</td>\n",
       "      <td>0</td>\n",
       "      <td>...</td>\n",
       "      <td>0</td>\n",
       "      <td>1</td>\n",
       "      <td>0</td>\n",
       "      <td>0</td>\n",
       "      <td>0</td>\n",
       "      <td>0</td>\n",
       "      <td>0</td>\n",
       "      <td>0</td>\n",
       "      <td>0</td>\n",
       "      <td>0</td>\n",
       "    </tr>\n",
       "    <tr>\n",
       "      <th>4</th>\n",
       "      <td>28000000</td>\n",
       "      <td>11265</td>\n",
       "      <td>0</td>\n",
       "      <td>0</td>\n",
       "      <td>0</td>\n",
       "      <td>0</td>\n",
       "      <td>0</td>\n",
       "      <td>0</td>\n",
       "      <td>0</td>\n",
       "      <td>0</td>\n",
       "      <td>...</td>\n",
       "      <td>0</td>\n",
       "      <td>1</td>\n",
       "      <td>0</td>\n",
       "      <td>0</td>\n",
       "      <td>0</td>\n",
       "      <td>0</td>\n",
       "      <td>0</td>\n",
       "      <td>0</td>\n",
       "      <td>0</td>\n",
       "      <td>0</td>\n",
       "    </tr>\n",
       "  </tbody>\n",
       "</table>\n",
       "<p>5 rows × 60 columns</p>\n",
       "</div>"
      ],
      "text/plain": [
       "     budget  theaters  20th Century Fox  CBS Films  FilmDistrict  \\\n",
       "0  40000000     21418                 0          0             0   \n",
       "1  61000000     15505                 0          0             0   \n",
       "2  42000000     22744                 0          0             0   \n",
       "3  50000000     22821                 0          0             0   \n",
       "4  28000000     11265                 0          0             0   \n",
       "\n",
       "   Focus / Gramercy  Focus Features  Lionsgate  Open Road  Paramount Pictures  \\\n",
       "0                 0               0          0          0                   0   \n",
       "1                 0               0          0          0                   0   \n",
       "2                 0               0          0          0                   0   \n",
       "3                 0               0          0          0                   0   \n",
       "4                 0               0          0          0                   0   \n",
       "\n",
       "      ...      Stop-Motion Animation  Contemporary Fiction  Dramatization  \\\n",
       "0     ...                          0                     0              1   \n",
       "1     ...                          0                     1              0   \n",
       "2     ...                          0                     1              0   \n",
       "3     ...                          0                     1              0   \n",
       "4     ...                          0                     1              0   \n",
       "\n",
       "   Factual  Fantasy  Historical Fiction  Kids Fiction  \\\n",
       "0        0        0                   0             0   \n",
       "1        0        0                   0             0   \n",
       "2        0        0                   0             0   \n",
       "3        0        0                   0             0   \n",
       "4        0        0                   0             0   \n",
       "\n",
       "   Multiple Creative Types  Science Fiction  Super Hero  \n",
       "0                        0                0           0  \n",
       "1                        0                0           0  \n",
       "2                        0                0           0  \n",
       "3                        0                0           0  \n",
       "4                        0                0           0  \n",
       "\n",
       "[5 rows x 60 columns]"
      ]
     },
     "execution_count": 8,
     "metadata": {},
     "output_type": "execute_result"
    }
   ],
   "source": [
    "trainX = pd.DataFrame()\n",
    "trainX['budget'] = train['Production Budget']\n",
    "trainX['theaters'] = train['Theatrical Engagements']\n",
    "\n",
    "testX = pd.DataFrame()\n",
    "testX['budget'] = test['Production Budget']\n",
    "testX['theaters'] = test['Theatrical Engagements']\n",
    "categorical_features = ['Theatrical Distributor', 'Genre', 'Source', 'Production Method', 'Creative Type']\n",
    "for c in categorical_features:\n",
    "    (t1,t2) = onehot(column=c)\n",
    "    trainX = trainX.join(t1)\n",
    "    testX = testX.join(t2)\n",
    "trainX.head()"
   ]
  },
  {
   "cell_type": "markdown",
   "metadata": {},
   "source": [
    "## Building Our First Decision Tree\n",
    "Once you've got the data, it's surprisingly simple"
   ]
  },
  {
   "cell_type": "code",
   "execution_count": 9,
   "metadata": {
    "collapsed": false
   },
   "outputs": [
    {
     "data": {
      "text/plain": [
       "DecisionTreeRegressor(criterion='mse', max_depth=None, max_features=None,\n",
       "           max_leaf_nodes=None, min_impurity_split=1e-07,\n",
       "           min_samples_leaf=1, min_samples_split=2,\n",
       "           min_weight_fraction_leaf=0.0, presort=False, random_state=None,\n",
       "           splitter='best')"
      ]
     },
     "execution_count": 9,
     "metadata": {},
     "output_type": "execute_result"
    }
   ],
   "source": [
    "regressor = DecisionTreeRegressor()\n",
    "regressor.fit(trainX,trainY)"
   ]
  },
  {
   "cell_type": "markdown",
   "metadata": {},
   "source": [
    "## Visualizing A Tree\n",
    "We have a couple tools available to us to look at tree structure / trace examples through the tree."
   ]
  },
  {
   "cell_type": "code",
   "execution_count": 10,
   "metadata": {
    "collapsed": false
   },
   "outputs": [
    {
     "data": {
      "text/plain": [
       "True"
      ]
     },
     "execution_count": 10,
     "metadata": {},
     "output_type": "execute_result"
    }
   ],
   "source": [
    "#requires graphviz installed\n",
    "#brew install graphviz\n",
    "dotfile = StringIO.StringIO()\n",
    "tree.export_graphviz(regressor, out_file=dotfile)\n",
    "(graph,) = pydot.graph_from_dot_data(dotfile.getvalue())\n",
    "graph.write_png(\"tree.png\")"
   ]
  },
  {
   "cell_type": "markdown",
   "metadata": {},
   "source": [
    "![Tree](tree.png)"
   ]
  },
  {
   "cell_type": "code",
   "execution_count": 11,
   "metadata": {
    "collapsed": false
   },
   "outputs": [],
   "source": [
    "def print_decision_path(tree,example):\n",
    "    for decision in tree.decision_path(example).indices:\n",
    "        print 'Node #{}: avg = ${:.2f}M'.format(decision,\n",
    "                                              tree.tree_.value[decision][0][0]/1e6)\n",
    "        print '\\t decision = {} > {}? ... example_value = {}'.format(trainX.columns[tree.tree_.feature[decision]],\n",
    "                                                          tree.tree_.threshold[decision],\n",
    "                                                          example[trainX.columns[tree.tree_.feature[decision]]])"
   ]
  },
  {
   "cell_type": "code",
   "execution_count": 12,
   "metadata": {
    "collapsed": false
   },
   "outputs": [
    {
     "name": "stdout",
     "output_type": "stream",
     "text": [
      "Released                           2015-07-17 00:00:00\n",
      "Title                                          Ant-Man\n",
      "Theatrical Distributor                     Walt Disney\n",
      "Genre                                           Action\n",
      "Source                    Based on Comic/Graphic Novel\n",
      "Production Method                          Live Action\n",
      "Creative Type                               Super Hero\n",
      "Production Budget                            130000000\n",
      "Theatrical Engagements                           25916\n",
      "Name: 25, dtype: object\n",
      "----------------------\n",
      "Node #0: avg = $111.06M\n",
      "\t decision = theaters > 21001.0? ... example_value = 25916.0\n",
      "Node #626: avg = $228.99M\n",
      "\t decision = theaters > 35699.0? ... example_value = 25916.0\n",
      "Node #627: avg = $209.63M\n",
      "\t decision = budget > 188750000.0? ... example_value = 130000000.0\n",
      "Node #628: avg = $187.41M\n",
      "\t decision = theaters > 30147.5? ... example_value = 25916.0\n",
      "Node #629: avg = $172.04M\n",
      "\t decision = budget > 122500000.0? ... example_value = 130000000.0\n",
      "Node #713: avg = $199.81M\n",
      "\t decision = Kids Fiction > 0.5? ... example_value = 0.0\n",
      "Node #714: avg = $223.70M\n",
      "\t decision = theaters > 23186.0? ... example_value = 25916.0\n",
      "Node #730: avg = $251.23M\n",
      "\t decision = Based on Fiction Book/Short Story > 0.5? ... example_value = 0.0\n",
      "Node #731: avg = $216.68M\n",
      "\t decision = budget > 167500000.0? ... example_value = 130000000.0\n",
      "Node #732: avg = $200.48M\n",
      "\t decision = Based on Factual Book/Article > 0.5? ... example_value = 0.0\n",
      "Node #733: avg = $194.75M\n",
      "\t decision = Paramount Pictures > 0.5? ... example_value = 0.0\n",
      "Node #734: avg = $186.15M\n",
      "\t decision = Original Screenplay > 0.5? ... example_value = 0.0\n",
      "Node #735: avg = $184.90M\n",
      "\t decision = Science Fiction > -2.0? ... example_value = 0.0\n"
     ]
    },
    {
     "name": "stderr",
     "output_type": "stream",
     "text": [
      "/usr/local/lib/python2.7/site-packages/sklearn/utils/validation.py:395: DeprecationWarning: Passing 1d arrays as data is deprecated in 0.17 and will raise ValueError in 0.19. Reshape your data either using X.reshape(-1, 1) if your data has a single feature or X.reshape(1, -1) if it contains a single sample.\n",
      "  DeprecationWarning)\n"
     ]
    }
   ],
   "source": [
    "print train.iloc[25]\n",
    "print '----------------------'\n",
    "print_decision_path(regressor,trainX.iloc[25])"
   ]
  },
  {
   "cell_type": "markdown",
   "metadata": {},
   "source": [
    "## Evaluating The Tree"
   ]
  },
  {
   "cell_type": "code",
   "execution_count": 13,
   "metadata": {
    "collapsed": true
   },
   "outputs": [],
   "source": [
    "def evaluate(regressor, trainX=trainX, trainY=trainY):\n",
    "    print 'R^2 = {:.4f}'.format(regressor.score(testX,testY))\n",
    "    ypred = regressor.predict(testX)\n",
    "    print 'MAE = ${:.1f}M'.format(metrics.mean_absolute_error(testY,ypred)/1e6)\n",
    "    print 'Explained Variance = {:.4f}'.format(metrics.explained_variance_score(testY,ypred))\n",
    "    plt.scatter(testY,regressor.predict(testX))"
   ]
  },
  {
   "cell_type": "code",
   "execution_count": 14,
   "metadata": {
    "collapsed": false
   },
   "outputs": [
    {
     "name": "stdout",
     "output_type": "stream",
     "text": [
      "R^2 = 0.7007\n",
      "MAE = $33.5M\n",
      "Explained Variance = 0.7016\n"
     ]
    },
    {
     "data": {
      "image/png": "[encoded data removed]",
      "text/plain": [
       "<matplotlib.figure.Figure at 0x102aa58d0>"
      ]
     },
     "metadata": {},
     "output_type": "display_data"
    }
   ],
   "source": [
    "evaluate(regressor)"
   ]
  },
  {
   "cell_type": "markdown",
   "metadata": {},
   "source": [
    "## Can We Do Better?\n",
    "### Option 1: Tune Tree Parameters\n",
    "Any machine learning technique we use to predict outcomes typically has hyperparameters used to control the behavoir of our methodology. Changing these characteristics will change our accuracy. For example, a tree with only 3 levels is very different than a tree with 10."
   ]
  },
  {
   "cell_type": "code",
   "execution_count": 15,
   "metadata": {
    "collapsed": false
   },
   "outputs": [
    {
     "name": "stdout",
     "output_type": "stream",
     "text": [
      "R^2 = 0.6971\n",
      "MAE = $36.3M\n",
      "Explained Variance = 0.7065\n"
     ]
    },
    {
     "data": {
      "image/png": "[encoded data removed]",
      "text/plain": [
       "<matplotlib.figure.Figure at 0x10f140450>"
      ]
     },
     "metadata": {},
     "output_type": "display_data"
    }
   ],
   "source": [
    "short_tree = DecisionTreeRegressor(max_depth=3)\n",
    "short_tree.fit(trainX,trainY)\n",
    "evaluate(short_tree)"
   ]
  },
  {
   "cell_type": "code",
   "execution_count": 16,
   "metadata": {
    "collapsed": false
   },
   "outputs": [
    {
     "data": {
      "text/plain": [
       "True"
      ]
     },
     "execution_count": 16,
     "metadata": {},
     "output_type": "execute_result"
    }
   ],
   "source": [
    "dotfile = StringIO.StringIO()\n",
    "tree.export_graphviz(short_tree, out_file=dotfile)\n",
    "(graph,) = pydot.graph_from_dot_data(dotfile.getvalue())\n",
    "graph.write_png(\"short_tree.png\")"
   ]
  },
  {
   "cell_type": "markdown",
   "metadata": {},
   "source": [
    "![Short Tree](short_tree.png)\n",
    "One way to figure out which hyper-parameters are best is simply to try them all on different subsets of data and see which performs the best. Sci-kit learn implements this in the GridSearchCV (CV=cross-validate) class."
   ]
  },
  {
   "cell_type": "code",
   "execution_count": 17,
   "metadata": {
    "collapsed": false
   },
   "outputs": [
    {
     "name": "stdout",
     "output_type": "stream",
     "text": [
      "Best estimator params:\n",
      "DecisionTreeRegressor(criterion='mse', max_depth=7, max_features=None,\n",
      "           max_leaf_nodes=None, min_impurity_split=1e-07,\n",
      "           min_samples_leaf=9, min_samples_split=2,\n",
      "           min_weight_fraction_leaf=0.0, presort=False, random_state=None,\n",
      "           splitter='best')\n"
     ]
    }
   ],
   "source": [
    "cv = GridSearchCV(DecisionTreeRegressor(),\n",
    "                  {'max_depth':[x+1 for x in range(10)],\n",
    "                   'min_samples_leaf':[x+1 for x in range(50)]},\n",
    "                  refit=True)\n",
    "cv.fit(trainX,trainY)\n",
    "cv_est = cv.best_estimator_\n",
    "print 'Best estimator params:\\n{}'.format(cv_est)"
   ]
  },
  {
   "cell_type": "code",
   "execution_count": 18,
   "metadata": {
    "collapsed": false
   },
   "outputs": [
    {
     "name": "stdout",
     "output_type": "stream",
     "text": [
      "R^2 = 0.8199\n",
      "MAE = $28.5M\n",
      "Explained Variance = 0.8212\n"
     ]
    },
    {
     "data": {
      "image/png": "[encoded data removed]",
      "text/plain": [
       "<matplotlib.figure.Figure at 0x10f639610>"
      ]
     },
     "metadata": {},
     "output_type": "display_data"
    }
   ],
   "source": [
    "evaluate(cv_est)"
   ]
  },
  {
   "cell_type": "markdown",
   "metadata": {},
   "source": [
    "### Option 2: Use A Different Algorithm\n",
    "There are several different ensembling methods we can use to reduce some of the noise inherent in decision trees. Random Forests build many trees, using random subsets of input data and features, and average the predictions. Gradient boosted trees build many trees, focusing on training examples that are tougher to predict."
   ]
  },
  {
   "cell_type": "code",
   "execution_count": 19,
   "metadata": {
    "collapsed": false
   },
   "outputs": [
    {
     "name": "stdout",
     "output_type": "stream",
     "text": [
      "RandomForestRegressor(bootstrap=True, criterion='mse', max_depth=None,\n",
      "           max_features='auto', max_leaf_nodes=None,\n",
      "           min_impurity_split=1e-07, min_samples_leaf=1,\n",
      "           min_samples_split=2, min_weight_fraction_leaf=0.0,\n",
      "           n_estimators=500, n_jobs=1, oob_score=False, random_state=None,\n",
      "           verbose=0, warm_start=False)\n",
      "R^2 = 0.7967\n",
      "MAE = $27.7M\n",
      "Explained Variance = 0.7969\n"
     ]
    },
    {
     "data": {
      "image/png": "[encoded data removed]",
      "text/plain": [
       "<matplotlib.figure.Figure at 0x10fb35ad0>"
      ]
     },
     "metadata": {},
     "output_type": "display_data"
    }
   ],
   "source": [
    "random_forest = RandomForestRegressor(n_estimators=500)\n",
    "random_forest.fit(trainX,trainY)\n",
    "print random_forest\n",
    "evaluate(random_forest)"
   ]
  },
  {
   "cell_type": "code",
   "execution_count": 20,
   "metadata": {
    "collapsed": false
   },
   "outputs": [
    {
     "name": "stdout",
     "output_type": "stream",
     "text": [
      "GradientBoostingRegressor(alpha=0.9, criterion='friedman_mse', init=None,\n",
      "             learning_rate=0.1, loss='ls', max_depth=3, max_features=None,\n",
      "             max_leaf_nodes=None, min_impurity_split=1e-07,\n",
      "             min_samples_leaf=1, min_samples_split=2,\n",
      "             min_weight_fraction_leaf=0.0, n_estimators=100,\n",
      "             presort='auto', random_state=None, subsample=1.0, verbose=0,\n",
      "             warm_start=False)\n",
      "R^2 = 0.8543\n",
      "MAE = $25.6M\n",
      "Explained Variance = 0.8549\n"
     ]
    },
    {
     "data": {
      "image/png": "[encoded data removed]",
      "text/plain": [
       "<matplotlib.figure.Figure at 0x10fb35dd0>"
      ]
     },
     "metadata": {},
     "output_type": "display_data"
    }
   ],
   "source": [
    "gradient_boost = GradientBoostingRegressor()\n",
    "gradient_boost.fit(trainX,trainY)\n",
    "print gradient_boost\n",
    "evaluate(gradient_boost)"
   ]
  },
  {
   "cell_type": "code",
   "execution_count": 21,
   "metadata": {
    "collapsed": false
   },
   "outputs": [
    {
     "name": "stdout",
     "output_type": "stream",
     "text": [
      "Feature ranking:\n",
      "1. theaters (0.777756)\n",
      "2. budget (0.126867)\n",
      "3. Lionsgate (0.009444)\n",
      "4. Universal (0.007976)\n",
      "5. Action (0.006632)\n",
      "6. Adventure (0.005157)\n",
      "7. Warner Bros. (0.004940)\n",
      "8. Animation/Live Action (0.004756)\n",
      "9. Original Screenplay (0.004445)\n",
      "10. Kids Fiction (0.004163)\n"
     ]
    }
   ],
   "source": [
    "columns = trainX.columns\n",
    "importances = random_forest.feature_importances_\n",
    "\n",
    "indices = np.argsort(importances)[::-1]\n",
    "\n",
    "print(\"Feature ranking:\")\n",
    "\n",
    "for f in range(10):\n",
    "    print(\"%d. %s (%f)\" % (f + 1, columns[indices[f]], importances[indices[f]]))"
   ]
  },
  {
   "cell_type": "markdown",
   "metadata": {
    "collapsed": true
   },
   "source": [
    "## Next Steps\n",
    "There's a lot we can do to further improve our predictions:\n",
    "* There are other parameters to tune for all the algorithms we've looked at\n",
    "* We can add new features to our data... director, cast, MPAA rating\n",
    "* We can get new training examples from other years\n",
    "* Other regression techniques... K-nearest neighbors, local regression, generalized Linear models, neural nets\n",
    "* Model stacking\n",
    "\n",
    "**Get To It!**"
   ]
  },
  {
   "cell_type": "code",
   "execution_count": null,
   "metadata": {
    "collapsed": true
   },
   "outputs": [],
   "source": []
  }
 ],
 "metadata": {
  "kernelspec": {
   "display_name": "Python 2",
   "language": "python",
   "name": "python2"
  },
  "language_info": {
   "codemirror_mode": {
    "name": "ipython",
    "version": 2
   },
   "file_extension": ".py",
   "mimetype": "text/x-python",
   "name": "python",
   "nbconvert_exporter": "python",
   "pygments_lexer": "ipython2",
   "version": "2.7.13"
  }
 },
 "nbformat": 4,
 "nbformat_minor": 2
}
