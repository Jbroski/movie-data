{
 "cells": [
  {
   "cell_type": "markdown",
   "metadata": {},
   "source": [
    "# Predicting Movie Performance\n",
    "\n",
    "I have compiled data for all the movies from 2011-2016 that had an opening US weekend box office total of $10m or more. We have some limited data points for each movie including genre, creative source, and production budget. Given the data for films from 2011-2015, can we predict the results of movies in 2016?\n",
    "\n",
    "We'll be using a variety of decision tree techniques, including random forests and boosted trees."
   ]
  },
  {
   "cell_type": "code",
   "execution_count": null,
   "metadata": {
    "collapsed": true
   },
   "outputs": [],
   "source": [
    "import pandas as pd\n",
    "\n",
    "from sklearn.tree import DecisionTreeRegressor\n",
    "from sklearn.ensemble import RandomForestRegressor\n",
    "from sklearn.ensemble import GradientBoostingRegressor"
   ]
  },
  {
   "cell_type": "code",
   "execution_count": null,
   "metadata": {
    "collapsed": true
   },
   "outputs": [],
   "source": [
    "import pydot\n",
    "from Ipython.display import Image\n",
    "from sklearn import tree"
   ]
  },
  {
   "cell_type": "markdown",
   "metadata": {},
   "source": [
    "## Data Preparation\n",
    "Here we'll be using pandas (http://pandas.pydata.org/) to import our data sets and ready our data for analysis. I've made sure that the data is already pretty normalized to make things easy on us."
   ]
  },
  {
   "cell_type": "code",
   "execution_count": 9,
   "metadata": {
    "collapsed": false
   },
   "outputs": [
    {
     "data": {
      "text/html": [
       "<div>\n",
       "<table border=\"1\" class=\"dataframe\">\n",
       "  <thead>\n",
       "    <tr style=\"text-align: right;\">\n",
       "      <th></th>\n",
       "      <th>Released</th>\n",
       "      <th>Title</th>\n",
       "      <th>Theatrical Distributor</th>\n",
       "      <th>Genre</th>\n",
       "      <th>Source</th>\n",
       "      <th>Production Method</th>\n",
       "      <th>Creative Type</th>\n",
       "      <th>Production Budget</th>\n",
       "      <th>Theatrical Engagements</th>\n",
       "    </tr>\n",
       "  </thead>\n",
       "  <tbody>\n",
       "    <tr>\n",
       "      <th>0</th>\n",
       "      <td>2013-04-12</td>\n",
       "      <td>42</td>\n",
       "      <td>Warner Bros.</td>\n",
       "      <td>Drama</td>\n",
       "      <td>Based on Real Life Events</td>\n",
       "      <td>Live Action</td>\n",
       "      <td>Dramatization</td>\n",
       "      <td>40000000.0</td>\n",
       "      <td>21418.0</td>\n",
       "    </tr>\n",
       "    <tr>\n",
       "      <th>1</th>\n",
       "      <td>2013-08-02</td>\n",
       "      <td>2 Guns</td>\n",
       "      <td>Universal</td>\n",
       "      <td>Action</td>\n",
       "      <td>Based on Comic/Graphic Novel</td>\n",
       "      <td>Live Action</td>\n",
       "      <td>Contemporary Fiction</td>\n",
       "      <td>61000000.0</td>\n",
       "      <td>15505.0</td>\n",
       "    </tr>\n",
       "    <tr>\n",
       "      <th>2</th>\n",
       "      <td>2012-03-16</td>\n",
       "      <td>21 Jump Street</td>\n",
       "      <td>Sony Pictures</td>\n",
       "      <td>Comedy</td>\n",
       "      <td>Based on TV</td>\n",
       "      <td>Live Action</td>\n",
       "      <td>Contemporary Fiction</td>\n",
       "      <td>42000000.0</td>\n",
       "      <td>22744.0</td>\n",
       "    </tr>\n",
       "    <tr>\n",
       "      <th>3</th>\n",
       "      <td>2014-06-13</td>\n",
       "      <td>22 Jump Street</td>\n",
       "      <td>Sony Pictures</td>\n",
       "      <td>Comedy</td>\n",
       "      <td>Based on TV</td>\n",
       "      <td>Live Action</td>\n",
       "      <td>Contemporary Fiction</td>\n",
       "      <td>50000000.0</td>\n",
       "      <td>22821.0</td>\n",
       "    </tr>\n",
       "    <tr>\n",
       "      <th>4</th>\n",
       "      <td>2014-02-21</td>\n",
       "      <td>3 Days to Kill</td>\n",
       "      <td>Relativity</td>\n",
       "      <td>Thriller/Suspense</td>\n",
       "      <td>Original Screenplay</td>\n",
       "      <td>Live Action</td>\n",
       "      <td>Contemporary Fiction</td>\n",
       "      <td>28000000.0</td>\n",
       "      <td>11265.0</td>\n",
       "    </tr>\n",
       "  </tbody>\n",
       "</table>\n",
       "</div>"
      ],
      "text/plain": [
       "    Released           Title Theatrical Distributor              Genre  \\\n",
       "0 2013-04-12              42           Warner Bros.              Drama   \n",
       "1 2013-08-02          2 Guns              Universal             Action   \n",
       "2 2012-03-16  21 Jump Street          Sony Pictures             Comedy   \n",
       "3 2014-06-13  22 Jump Street          Sony Pictures             Comedy   \n",
       "4 2014-02-21  3 Days to Kill             Relativity  Thriller/Suspense   \n",
       "\n",
       "                         Source Production Method         Creative Type  \\\n",
       "0     Based on Real Life Events       Live Action         Dramatization   \n",
       "1  Based on Comic/Graphic Novel       Live Action  Contemporary Fiction   \n",
       "2                   Based on TV       Live Action  Contemporary Fiction   \n",
       "3                   Based on TV       Live Action  Contemporary Fiction   \n",
       "4           Original Screenplay       Live Action  Contemporary Fiction   \n",
       "\n",
       "   Production Budget  Theatrical Engagements  \n",
       "0         40000000.0                 21418.0  \n",
       "1         61000000.0                 15505.0  \n",
       "2         42000000.0                 22744.0  \n",
       "3         50000000.0                 22821.0  \n",
       "4         28000000.0                 11265.0  "
      ]
     },
     "execution_count": 9,
     "metadata": {},
     "output_type": "execute_result"
    }
   ],
   "source": [
    "train = pd.read_csv('train.csv',parse_dates=[0])\n",
    "trainY = train['Infl. Adj. Dom. Box Office']\n",
    "del train['Infl. Adj. Dom. Box Office']\n",
    "\n",
    "test = pd.read_csv('test.csv',parse_dates=[0])\n",
    "testY = test['Infl. Adj. Dom. Box Office']\n",
    "del test['Infl. Adj. Dom. Box Office']\n",
    "\n",
    "train.head()\n",
    "#trainY.head()"
   ]
  },
  {
   "cell_type": "markdown",
   "metadata": {},
   "source": [
    "## Building Our First Decision Tree"
   ]
  },
  {
   "cell_type": "code",
   "execution_count": null,
   "metadata": {
    "collapsed": true
   },
   "outputs": [],
   "source": [
    "regressor = DecisionTreeRegressor()\n",
    "regressor.fit(train,trainY)\n",
    "\n",
    "dotfile = StringIO()\n",
    "export_graphviz(regressor, out_file=dotfile)\n",
    "pydot.graph_from_dot_data(dotfile.getvalue()).write_png(\"tree.png\")\n",
    "\n",
    "Image(filename='tree.png')"
   ]
  }
 ],
 "metadata": {
  "kernelspec": {
   "display_name": "Python 2",
   "language": "python",
   "name": "python2"
  },
  "language_info": {
   "codemirror_mode": {
    "name": "ipython",
    "version": 2
   },
   "file_extension": ".py",
   "mimetype": "text/x-python",
   "name": "python",
   "nbconvert_exporter": "python",
   "pygments_lexer": "ipython2",
   "version": "2.7.13"
  }
 },
 "nbformat": 4,
 "nbformat_minor": 2
}
